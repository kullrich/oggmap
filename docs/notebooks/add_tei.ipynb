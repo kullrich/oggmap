{
 "cells": [
  {
   "cell_type": "markdown",
   "id": "d717b014",
   "metadata": {},
   "source": [
    "# oggmap: Step 4 - TEI calculation\n",
    "\n",
    "This notebook will demonstrate how to to add a transcriptome evolutionary index (short: TEI) to scRNA data."
   ]
  },
  {
   "cell_type": "markdown",
   "id": "eeb58ae3",
   "metadata": {},
   "source": [
    "## Notebook file\n",
    "\n",
    "Notebook file can be obtained here:\n",
    "\n",
    "[https://raw.githubusercontent.com/kullrich/oggmap/main/docs/notebooks/add_tei.ipynb](https://raw.githubusercontent.com/kullrich/oggmap/main/docs/notebooks/add_tei.ipynb)"
   ]
  },
  {
   "cell_type": "markdown",
   "id": "fd9f9c62",
   "metadata": {},
   "source": [
    "## Import libraries"
   ]
  },
  {
   "cell_type": "code",
   "execution_count": 1,
   "id": "e81e5626",
   "metadata": {},
   "outputs": [],
   "source": [
    "import numpy as np\n",
    "import pandas as pd\n",
    "import scanpy as sc\n",
    "import seaborn as sns\n",
    "import matplotlib.pyplot as plt\n",
    "from statannot import add_stat_annotation\n",
    "# increase dpi\n",
    "%matplotlib inline\n",
    "#plt.rcParams['figure.dpi'] = 300\n",
    "#plt.rcParams['savefig.dpi'] = 300\n",
    "plt.rcParams['figure.figsize'] = [6, 4.5]\n",
    "#plt.rcParams['figure.figsize'] = [4.4, 3.3]"
   ]
  },
  {
   "cell_type": "markdown",
   "id": "966bf9fe",
   "metadata": {},
   "source": [
    "## Import oggmap python package submodules"
   ]
  },
  {
   "cell_type": "code",
   "execution_count": 2,
   "id": "3d39256b",
   "metadata": {},
   "outputs": [],
   "source": [
    "# import submodules\n",
    "from oggmap import qlin, gtf2t2g, of2orthomap, orthomap2tei, datasets, ncbitax"
   ]
  },
  {
   "cell_type": "markdown",
   "id": "dd9ad0db",
   "metadata": {},
   "source": [
    "## Step 0, Step 1, Step 2 and Step 3"
   ]
  },
  {
   "cell_type": "markdown",
   "id": "0c112b1b",
   "metadata": {},
   "source": [
    "In order to come to Step 4, TEI calculation, one needs to have the results from Step 0, Step 1, Step 2 and Step 3.\n",
    "\n",
    "The query species in this part is: __*Danio rerio*__ (zebrafish).\n",
    "\n",
    "Please have a look at the documentation of [Step 0 - run OrthoFinder](https://oggmap.readthedocs.io/en/latest/tutorials/orthofinder.html) to get to know what information and files are mandatory to extract gene age classes from [OrthoFinder](https://oggmap.readthedocs.io/en/latest/tutorials/https://github.com/davidemms/OrthoFinder) results.\n",
    "\n",
    "In [Step 1 - get taxonomic information](https://oggmap.readthedocs.io/en/latest/tutorials/query_lineage.html) you have already been introduced how to extract query lineage information with `oggmap` and the `qlin.get_qlin()` function.\n",
    "\n",
    "In [Step 2 - gene age class assignment](https://oggmap.readthedocs.io/en/latest/tutorials/get_orthomap.html) you have already been introduced how to extract an orthomap (gene age class) from [OrthoFinder](https://oggmap.readthedocs.io/en/latest/tutorials/https://github.com/davidemms/OrthoFinder) results with `oggmap` and the `of2orthomap.get_orthomap()` function or how to import pre-calculated orthomaps with the `orthomap2tei.read_orthomap()` function.\n",
    "\n",
    "In [Step 3 - map gene/transcript IDs](https://oggmap.readthedocs.io/en/latest/tutorials/geneset_overlap.html) you have already been introduced how to extract gene IDs from `GTF` file with `orthoamp` and the `gtf2t2g.parse_gtf()` function. You have also been introduced how to use the `orthomap2tei.geneset_overlap()` function to check the overlap between the gene IDs and have learned how to use the `orthomap2tei.replace_by()` function to e.g. reduce isoform gene IDs to gene IDs."
   ]
  },
  {
   "cell_type": "markdown",
   "id": "8d8488bd",
   "metadata": {},
   "source": [
    "### Step 0 - run OrthoFinder\n",
    "\n",
    "For this documentation part all mandatory [OrthoFinder](https://oggmap.readthedocs.io/en/latest/tutorials/https://github.com/davidemms/OrthoFinder) ([Emms and Kelly, 2019](https://doi.org/10.1186/s13059-019-1832-y)) results have been pre-calculated.\n",
    "\n",
    "Please have a look at the documentation of [Step 0 - run OrthoFinder](https://oggmap.readthedocs.io/en/latest/tutorials/orthofinder.html) to get further insides.\n",
    "\n",
    "The results are available here: \n",
    "\n",
    "https://doi.org/10.5281/zenodo.7242264\n",
    "\n",
    "or can be accessed with the `dataset` submodule of `oggmap`\n",
    "\n",
    "`datasets.ensembl113_last(datapath='data')` (download folder set to `'data'`)."
   ]
  },
  {
   "cell_type": "markdown",
   "id": "b7809c37",
   "metadata": {},
   "source": [
    "### Step 1 - get taxonomic information\n",
    "\n",
    "Please have a look at the documentation of [Step 1 - get taxonomic information](https://oggmap.readthedocs.io/en/latest/tutorials/query_lineage.html) to get further insides."
   ]
  },
  {
   "cell_type": "code",
   "execution_count": 3,
   "id": "c5dc5c7f",
   "metadata": {},
   "outputs": [
    {
     "name": "stdout",
     "output_type": "stream",
     "text": [
      "query name: Danio rerio\n",
      "query taxID: 7955\n",
      "query kingdom: Eukaryota\n",
      "query lineage names: \n",
      "['root(1)', 'cellular organisms(131567)', 'Eukaryota(2759)', 'Opisthokonta(33154)', 'Metazoa(33208)', 'Eumetazoa(6072)', 'Bilateria(33213)', 'Deuterostomia(33511)', 'Chordata(7711)', 'Craniata(89593)', 'Vertebrata(7742)', 'Gnathostomata(7776)', 'Teleostomi(117570)', 'Euteleostomi(117571)', 'Actinopterygii(7898)', 'Actinopteri(186623)', 'Neopterygii(41665)', 'Teleostei(32443)', 'Osteoglossocephalai(1489341)', 'Clupeocephala(186625)', 'Otomorpha(186634)', 'Ostariophysi(32519)', 'Otophysi(186626)', 'Cypriniphysae(186627)', 'Cypriniformes(7952)', 'Cyprinoidei(30727)', 'Danionidae(2743709)', 'Danioninae(2743711)', 'Danio(7954)', 'Danio rerio(7955)']\n",
      "query lineage: \n",
      "[1, 131567, 2759, 33154, 33208, 6072, 33213, 33511, 7711, 89593, 7742, 7776, 117570, 117571, 7898, 186623, 41665, 32443, 1489341, 186625, 186634, 32519, 186626, 186627, 7952, 30727, 2743709, 2743711, 7954, 7955]\n"
     ]
    }
   ],
   "source": [
    "# get query species taxonomic lineage information\n",
    "query_lineage = qlin.get_qlin(q='Danio rerio', dbname='data/taxadb.sqlite')"
   ]
  },
  {
   "cell_type": "markdown",
   "id": "29f7d754",
   "metadata": {},
   "source": [
    "### Step 2 - gene age class assignment\n",
    "\n",
    "Here, `oggmap` use the query species information and [OrthoFinder](https://oggmap.readthedocs.io/en/latest/tutorials/https://github.com/davidemms/OrthoFinder) results to extract the oldest common tree node per orthogroup along a species tree and to assign this node as the gene age to the corresponding genes.\n",
    "\n",
    "Please have a look at the documentation of [Step 2 - gene age class assignment](https://oggmap.readthedocs.io/en/latest/tutorials/get_orthomap.html) to get further insides."
   ]
  },
  {
   "cell_type": "markdown",
   "id": "86828cf6",
   "metadata": {},
   "source": [
    "### Step 3 - map gene/transcript IDs\n",
    "\n",
    "To be able to link gene ages assignments from an orthomap and gene or transcript of scRNA dataset, one needs to check the overlap of the annotated gene names. With the `gtf2t2g` submodule of `oggmap` and the `gtf2t2g.parse_gtf()` function, one can extract gene and transcript names from a given gene feature file (`GTF`).\n",
    "\n",
    "Please have a look at the documentation of [Step 3 - map gene/transcript IDs](https://oggmap.readthedocs.io/en/latest/tutorials/geneset_overlap.html) to get further insides."
   ]
  },
  {
   "cell_type": "markdown",
   "id": "a6d05faf",
   "metadata": {},
   "source": [
    "Here, the pre-calculated orthomap from *Danio rerio* (zebrafish) obtained via Step 0, Step 1, Step 2 and Step 3 is loaded as follows:"
   ]
  },
  {
   "cell_type": "code",
   "execution_count": 4,
   "id": "e57a22b1",
   "metadata": {},
   "outputs": [
    {
     "name": "stdout",
     "output_type": "stream",
     "text": [
      "100% [..........................................................................] 1901053 / 1901053"
     ]
    },
    {
     "data": {
      "text/plain": [
       "'data/zebrafish_ensembl_113_orthomap.tsv'"
      ]
     },
     "execution_count": 4,
     "metadata": {},
     "output_type": "execute_result"
    }
   ],
   "source": [
    "datasets.zebrafish_ensembl113_orthomap(datapath='data')"
   ]
  },
  {
   "cell_type": "code",
   "execution_count": 5,
   "id": "5d445639",
   "metadata": {},
   "outputs": [
    {
     "data": {
      "text/html": [
       "<div>\n",
       "<style scoped>\n",
       "    .dataframe tbody tr th:only-of-type {\n",
       "        vertical-align: middle;\n",
       "    }\n",
       "\n",
       "    .dataframe tbody tr th {\n",
       "        vertical-align: top;\n",
       "    }\n",
       "\n",
       "    .dataframe thead th {\n",
       "        text-align: right;\n",
       "    }\n",
       "</style>\n",
       "<table border=\"1\" class=\"dataframe\">\n",
       "  <thead>\n",
       "    <tr style=\"text-align: right;\">\n",
       "      <th></th>\n",
       "      <th>seqID</th>\n",
       "      <th>Orthogroup</th>\n",
       "      <th>PSnum</th>\n",
       "      <th>PStaxID</th>\n",
       "      <th>PSname</th>\n",
       "      <th>PScontinuity</th>\n",
       "      <th>geneID</th>\n",
       "    </tr>\n",
       "  </thead>\n",
       "  <tbody>\n",
       "    <tr>\n",
       "      <th>0</th>\n",
       "      <td>ENSDART00000013359.10</td>\n",
       "      <td>OG0000000</td>\n",
       "      <td>10</td>\n",
       "      <td>7742</td>\n",
       "      <td>Vertebrata</td>\n",
       "      <td>0.909091</td>\n",
       "      <td>ENSDARG00000013014</td>\n",
       "    </tr>\n",
       "    <tr>\n",
       "      <th>1</th>\n",
       "      <td>ENSDART00000014270.5</td>\n",
       "      <td>OG0000000</td>\n",
       "      <td>10</td>\n",
       "      <td>7742</td>\n",
       "      <td>Vertebrata</td>\n",
       "      <td>0.909091</td>\n",
       "      <td>ENSDARG00000094080</td>\n",
       "    </tr>\n",
       "    <tr>\n",
       "      <th>2</th>\n",
       "      <td>ENSDART00000099395.5</td>\n",
       "      <td>OG0000000</td>\n",
       "      <td>10</td>\n",
       "      <td>7742</td>\n",
       "      <td>Vertebrata</td>\n",
       "      <td>0.909091</td>\n",
       "      <td>ENSDARG00000068659</td>\n",
       "    </tr>\n",
       "    <tr>\n",
       "      <th>3</th>\n",
       "      <td>ENSDART00000145885.2</td>\n",
       "      <td>OG0000000</td>\n",
       "      <td>10</td>\n",
       "      <td>7742</td>\n",
       "      <td>Vertebrata</td>\n",
       "      <td>0.909091</td>\n",
       "      <td>ENSDARG00000094125</td>\n",
       "    </tr>\n",
       "    <tr>\n",
       "      <th>4</th>\n",
       "      <td>ENSDART00000159675.3</td>\n",
       "      <td>OG0000000</td>\n",
       "      <td>10</td>\n",
       "      <td>7742</td>\n",
       "      <td>Vertebrata</td>\n",
       "      <td>0.909091</td>\n",
       "      <td>ENSDARG00000101806</td>\n",
       "    </tr>\n",
       "    <tr>\n",
       "      <th>...</th>\n",
       "      <td>...</td>\n",
       "      <td>...</td>\n",
       "      <td>...</td>\n",
       "      <td>...</td>\n",
       "      <td>...</td>\n",
       "      <td>...</td>\n",
       "      <td>...</td>\n",
       "    </tr>\n",
       "    <tr>\n",
       "      <th>24956</th>\n",
       "      <td>ENSDART00000191935.1</td>\n",
       "      <td>OG0025717</td>\n",
       "      <td>25</td>\n",
       "      <td>30727</td>\n",
       "      <td>Cyprinoidei</td>\n",
       "      <td>1.000000</td>\n",
       "      <td>ENSDARG00000114540</td>\n",
       "    </tr>\n",
       "    <tr>\n",
       "      <th>24957</th>\n",
       "      <td>ENSDART00000171005.2</td>\n",
       "      <td>OG0025718</td>\n",
       "      <td>22</td>\n",
       "      <td>186626</td>\n",
       "      <td>Otophysi</td>\n",
       "      <td>0.666667</td>\n",
       "      <td>ENSDARG00000102218</td>\n",
       "    </tr>\n",
       "    <tr>\n",
       "      <th>24958</th>\n",
       "      <td>ENSDART00000143229.2</td>\n",
       "      <td>OG0025719</td>\n",
       "      <td>29</td>\n",
       "      <td>7955</td>\n",
       "      <td>Danio rerio</td>\n",
       "      <td>1.000000</td>\n",
       "      <td>ENSDARG00000069978</td>\n",
       "    </tr>\n",
       "    <tr>\n",
       "      <th>24959</th>\n",
       "      <td>ENSDART00000143837.3</td>\n",
       "      <td>OG0025719</td>\n",
       "      <td>29</td>\n",
       "      <td>7955</td>\n",
       "      <td>Danio rerio</td>\n",
       "      <td>1.000000</td>\n",
       "      <td>ENSDARG00000078193</td>\n",
       "    </tr>\n",
       "    <tr>\n",
       "      <th>24960</th>\n",
       "      <td>ENSDART00000143384.2</td>\n",
       "      <td>OG0025720</td>\n",
       "      <td>22</td>\n",
       "      <td>186626</td>\n",
       "      <td>Otophysi</td>\n",
       "      <td>0.666667</td>\n",
       "      <td>ENSDARG00000092452</td>\n",
       "    </tr>\n",
       "  </tbody>\n",
       "</table>\n",
       "<p>24961 rows × 7 columns</p>\n",
       "</div>"
      ],
      "text/plain": [
       "                       seqID Orthogroup  PSnum  PStaxID       PSname  \\\n",
       "0      ENSDART00000013359.10  OG0000000     10     7742   Vertebrata   \n",
       "1       ENSDART00000014270.5  OG0000000     10     7742   Vertebrata   \n",
       "2       ENSDART00000099395.5  OG0000000     10     7742   Vertebrata   \n",
       "3       ENSDART00000145885.2  OG0000000     10     7742   Vertebrata   \n",
       "4       ENSDART00000159675.3  OG0000000     10     7742   Vertebrata   \n",
       "...                      ...        ...    ...      ...          ...   \n",
       "24956   ENSDART00000191935.1  OG0025717     25    30727  Cyprinoidei   \n",
       "24957   ENSDART00000171005.2  OG0025718     22   186626     Otophysi   \n",
       "24958   ENSDART00000143229.2  OG0025719     29     7955  Danio rerio   \n",
       "24959   ENSDART00000143837.3  OG0025719     29     7955  Danio rerio   \n",
       "24960   ENSDART00000143384.2  OG0025720     22   186626     Otophysi   \n",
       "\n",
       "       PScontinuity              geneID  \n",
       "0          0.909091  ENSDARG00000013014  \n",
       "1          0.909091  ENSDARG00000094080  \n",
       "2          0.909091  ENSDARG00000068659  \n",
       "3          0.909091  ENSDARG00000094125  \n",
       "4          0.909091  ENSDARG00000101806  \n",
       "...             ...                 ...  \n",
       "24956      1.000000  ENSDARG00000114540  \n",
       "24957      0.666667  ENSDARG00000102218  \n",
       "24958      1.000000  ENSDARG00000069978  \n",
       "24959      1.000000  ENSDARG00000078193  \n",
       "24960      0.666667  ENSDARG00000092452  \n",
       "\n",
       "[24961 rows x 7 columns]"
      ]
     },
     "execution_count": 5,
     "metadata": {},
     "output_type": "execute_result"
    }
   ],
   "source": [
    "# get query species orthomap\n",
    "\n",
    "# download zebrafish orthomap results here: https://doi.org/10.5281/zenodo.7242263\n",
    "# or download with datasets.zebrafish_ensembl_113_orthomap(datapath='data')\n",
    "\n",
    "query_orthomap = orthomap2tei.read_orthomap('data/zebrafish_ensembl_113_orthomap.tsv')\n",
    "query_orthomap"
   ]
  },
  {
   "cell_type": "markdown",
   "id": "7a57f5b2",
   "metadata": {},
   "source": [
    "### Import now, the scRNA dataset of the query species\n",
    "\n",
    "Here, data is used, like in the publication ([Farrell et al., 2018](https://doi.org/10.1126/science.aar3131); [Wagner et al., 2018](https://doi.org/10.1126/science.aar4362); [Qiu et al., 2022](https://doi.org/10.1038/s41588-022-01018-x)).\n",
    "\n",
    "scRNA data was downloaded from http://tome.gs.washington.edu/ as R rds files, combined into a single Seurat object and converted into loom and AnnData (h5ad) files to be able to analyse with e.g. python scanpy or `oggmap` package and is available here:\n",
    "\n",
    "https://doi.org/10.5281/zenodo.7243602\n",
    "\n",
    "or can be accessed with the `dataset` submodule of `oggmap`:\n",
    "\n",
    "`datasets.qiu22_zebrafish(datapath='data')` (download folder set to `'data'`)."
   ]
  },
  {
   "cell_type": "code",
   "execution_count": 6,
   "id": "db955abf",
   "metadata": {},
   "outputs": [],
   "source": [
    "# load scRNA data\n",
    "\n",
    "# download zebrafish scRNA data here: https://doi.org/10.5281/zenodo.7243602\n",
    "# or download with datasets.qui22_zebrafish(datapath='data')\n",
    "\n",
    "#zebrafish_data = datasets.qiu22_zebrafish(datapath='data')\n",
    "zebrafish_data = sc.read_h5ad('data/zebrafish_data.h5ad')\n",
    "#subset of the zebrafish_data\n",
    "zebrafish_data_subset = zebrafish_data[:1000].copy()"
   ]
  },
  {
   "cell_type": "markdown",
   "id": "b7ea81d7",
   "metadata": {},
   "source": [
    "## Step 4 - Get TEI values and add them to scRNA dataset\n",
    "\n",
    "Since now the gene names correspond to each other in the orthomap and the scRNA `adata` object, one can calculate the transcriptome evolutionary index (`TEI`) and add them to the scRNA dataset (`adata` object).\n",
    "\n",
    "The `TEI` measure represents the weighted arithmetic mean (expression levels as weights for the phylostratum value) over all evolutionary age categories denoted as _phylostra_.\n",
    "\n",
    "$TEI_s = \\sum (e_{is} * ps_i) / \\sum e_{is}$\n",
    "\n",
    ", where $TEI_s$ denotes the `TEI` value in developmental stage ${s, e_{is}}$ denotes the gene expression level of gene ${i}$ in stage ${s}$, and ${ps_i}$ denotes the corresponding phylostratum of gene ${i, i = 1,...,N}$ and ${N = total\\ number\\ of\\ genes}$.\n",
    "\n",
    "Note: If e.g. two different isoforms would fall into two different gene age classes, their gene ages might differ based on the oldest ortholog found in their corresponding orthologous groups. However, both isoforms share the same gene name and their gene ages would clash. In this case one can decide either to use the `keep='min'` or `keep='max'` gene age to be kept by the `get_tei` function, which defaults to keep in this cases the `keep='min'` or in other words the 'older' gene age."
   ]
  },
  {
   "cell_type": "markdown",
   "id": "88b2f8bd",
   "metadata": {},
   "source": [
    "To be able to re-use the original `count` data, they are added as a new `layer` to the `adata` object. This is useful because later on the `count` data can be used to extract either the relative expression per gene age class or re-calculate other metrics. \n",
    "\n",
    "This can be done either on un-normalized `counts`, on `normalized` and `log-transformed` data."
   ]
  },
  {
   "cell_type": "code",
   "execution_count": 7,
   "id": "7c51ffc2",
   "metadata": {},
   "outputs": [],
   "source": [
    "zebrafish_data.layers['counts'] = zebrafish_data.X"
   ]
  },
  {
   "cell_type": "markdown",
   "id": "5f2ddcc3",
   "metadata": {},
   "source": [
    "### add TEI to adata object\n",
    "\n",
    "Using the submodule `orthomap2tei` from `oggmap` and the `orthomap2tei.get_tei()` function, transcriptome evolutionary index (`TEI`) values are calculated and directyl added to the existing `adata` object (`add_obs=True`).\n",
    "\n",
    "There are other options to e.g. not start from the `adata.X` `counts` but from another `layer` from the `adata` object, the default is to use the `adata.X` (`layer=None`). By default, the values are pre-processed by the `normalize_total` option and the `log1p` option.\n",
    "\n",
    "__Note:__ Please have a look at [Liu & Robinson-Rechavi, 2018](https://doi.org/10.1093/gbe/evy177>) to get more insides how expression transformation can influence TEI calculation.\n",
    "\n",
    "If `add_obs=True` the resulting `TEI` values are added to the existing `adata` object as a new observation with the name set with the `obs_name` option.\n",
    "\n",
    "If `add_var=True` the gene age values are added to the existing `adata` object as a new variable with the name set with the `var_name` option.\n",
    "\n",
    "__Note:__ Genes not assigned to any gene class will get a missing assignment.\n",
    "\n",
    "If one wants to calculate bootstrap `TEI` values per cell, the `boot` option can be set to `boot=True` and gene age classes will be randomly chosen prior calculating `TEI` values `bt=10` times.\n",
    "\n",
    "__Note:__ If memory is a problem with large `annData` objects, consider processing the `adata` object in `chunks` using the `chunk_size` parameter."
   ]
  },
  {
   "cell_type": "code",
   "execution_count": 8,
   "id": "1c9085b4",
   "metadata": {},
   "outputs": [
    {
     "data": {
      "text/html": [
       "<div>\n",
       "<style scoped>\n",
       "    .dataframe tbody tr th:only-of-type {\n",
       "        vertical-align: middle;\n",
       "    }\n",
       "\n",
       "    .dataframe tbody tr th {\n",
       "        vertical-align: top;\n",
       "    }\n",
       "\n",
       "    .dataframe thead th {\n",
       "        text-align: right;\n",
       "    }\n",
       "</style>\n",
       "<table border=\"1\" class=\"dataframe\">\n",
       "  <thead>\n",
       "    <tr style=\"text-align: right;\">\n",
       "      <th></th>\n",
       "      <th>tei</th>\n",
       "    </tr>\n",
       "  </thead>\n",
       "  <tbody>\n",
       "    <tr>\n",
       "      <th>hpf3.3_ZFHIGH_WT_DS5_AAAAGTTGCCTC</th>\n",
       "      <td>5.514485</td>\n",
       "    </tr>\n",
       "    <tr>\n",
       "      <th>hpf3.3_ZFHIGH_WT_DS5_AAACAAGTGTAT</th>\n",
       "      <td>5.503633</td>\n",
       "    </tr>\n",
       "    <tr>\n",
       "      <th>hpf3.3_ZFHIGH_WT_DS5_AAACACCTCGTC</th>\n",
       "      <td>5.488072</td>\n",
       "    </tr>\n",
       "    <tr>\n",
       "      <th>hpf3.3_ZFHIGH_WT_DS5_AAATGAGGTTTN</th>\n",
       "      <td>5.50889</td>\n",
       "    </tr>\n",
       "    <tr>\n",
       "      <th>hpf3.3_ZFHIGH_WT_DS5_AACCCTCTCGAT</th>\n",
       "      <td>5.574979</td>\n",
       "    </tr>\n",
       "    <tr>\n",
       "      <th>...</th>\n",
       "      <td>...</td>\n",
       "    </tr>\n",
       "    <tr>\n",
       "      <th>hpf24_DEW057_TGACACAACAG_GCCACATC</th>\n",
       "      <td>5.189284</td>\n",
       "    </tr>\n",
       "    <tr>\n",
       "      <th>hpf24_DEW057_CTTACGGG_AACCTGAC</th>\n",
       "      <td>5.399853</td>\n",
       "    </tr>\n",
       "    <tr>\n",
       "      <th>hpf24_DEW057_TGAACATCTAT_GACGATGG</th>\n",
       "      <td>5.154028</td>\n",
       "    </tr>\n",
       "    <tr>\n",
       "      <th>hpf24_DEW057_TGAGGTTTCTC_CTCAGAAT</th>\n",
       "      <td>5.050597</td>\n",
       "    </tr>\n",
       "    <tr>\n",
       "      <th>hpf24_DEW057_ACGTGCTAG_CAAGTCAT</th>\n",
       "      <td>5.344325</td>\n",
       "    </tr>\n",
       "  </tbody>\n",
       "</table>\n",
       "<p>71203 rows × 1 columns</p>\n",
       "</div>"
      ],
      "text/plain": [
       "                                        tei\n",
       "hpf3.3_ZFHIGH_WT_DS5_AAAAGTTGCCTC  5.514485\n",
       "hpf3.3_ZFHIGH_WT_DS5_AAACAAGTGTAT  5.503633\n",
       "hpf3.3_ZFHIGH_WT_DS5_AAACACCTCGTC  5.488072\n",
       "hpf3.3_ZFHIGH_WT_DS5_AAATGAGGTTTN   5.50889\n",
       "hpf3.3_ZFHIGH_WT_DS5_AACCCTCTCGAT  5.574979\n",
       "...                                     ...\n",
       "hpf24_DEW057_TGACACAACAG_GCCACATC  5.189284\n",
       "hpf24_DEW057_CTTACGGG_AACCTGAC     5.399853\n",
       "hpf24_DEW057_TGAACATCTAT_GACGATGG  5.154028\n",
       "hpf24_DEW057_TGAGGTTTCTC_CTCAGAAT  5.050597\n",
       "hpf24_DEW057_ACGTGCTAG_CAAGTCAT    5.344325\n",
       "\n",
       "[71203 rows x 1 columns]"
      ]
     },
     "execution_count": 8,
     "metadata": {},
     "output_type": "execute_result"
    }
   ],
   "source": [
    "# add TEI values to existing adata object\n",
    "orthomap2tei.get_tei(adata=zebrafish_data,\n",
    "    gene_id=query_orthomap['geneID'],\n",
    "    gene_age=query_orthomap['PSnum'],\n",
    "    keep='min',\n",
    "    layer=None,\n",
    "    add_var=True,\n",
    "    var_name='Phylostrata',\n",
    "    add_obs=True,\n",
    "    obs_name='tei',\n",
    "    boot=False,\n",
    "    bt=10,\n",
    "    normalize_total=True,\n",
    "    log1p=True,\n",
    "    target_sum=1e6,\n",
    "    chunk_size=100000)"
   ]
  },
  {
   "cell_type": "markdown",
   "id": "2b7836aa",
   "metadata": {},
   "source": [
    "In the `adata` object, for each cell there is now a new variable called `tei`, which can be used in downstream analysis.\n",
    "\n",
    "Once the gene age data has been added to the scRNA dataset, one can e.g. plot the corresponding transcriptome evolutionary index (`TEI`) values by any given observation pre-defined in the scRNA dataset."
   ]
  },
  {
   "cell_type": "markdown",
   "id": "ddeedaeb",
   "metadata": {},
   "source": [
    "### Boxplot gene age class per embryo stage"
   ]
  },
  {
   "cell_type": "code",
   "execution_count": 9,
   "id": "830e8730",
   "metadata": {},
   "outputs": [
    {
     "data": {
      "image/png": "[encoded data removed]",
      "text/plain": [
       "<Figure size 747.4x450 with 1 Axes>"
      ]
     },
     "metadata": {},
     "output_type": "display_data"
    }
   ],
   "source": [
    "sc.pl.violin(adata=zebrafish_data,\n",
    "             keys=['tei'],\n",
    "             groupby='stage',\n",
    "             rotation=90,\n",
    "             palette='Paired',\n",
    "             stripplot=False,\n",
    "             inner='box',\n",
    "             hue='stage',\n",
    "             legend=False)"
   ]
  },
  {
   "cell_type": "markdown",
   "id": "4b4b7812",
   "metadata": {},
   "source": [
    "### calculate bootstrap on subet of the data"
   ]
  },
  {
   "cell_type": "code",
   "execution_count": 10,
   "id": "515050d5",
   "metadata": {},
   "outputs": [
    {
     "name": "stdout",
     "output_type": "stream",
     "text": [
      "|████████████████████████████████████████| 10/10 [100%] in 2.5s (4.00/s) \n"
     ]
    },
    {
     "data": {
      "text/plain": [
       "(                                        tei\n",
       " hpf3.3_ZFHIGH_WT_DS5_AAAAGTTGCCTC  5.514485\n",
       " hpf3.3_ZFHIGH_WT_DS5_AAACAAGTGTAT  5.503633\n",
       " hpf3.3_ZFHIGH_WT_DS5_AAACACCTCGTC  5.488072\n",
       " hpf3.3_ZFHIGH_WT_DS5_AAATGAGGTTTN   5.50889\n",
       " hpf3.3_ZFHIGH_WT_DS5_AACCCTCTCGAT  5.574979\n",
       " ...                                     ...\n",
       " hpf4.3_ZFDOME_WT_DS5_CGGACCGCAGGT  5.301656\n",
       " hpf4.3_ZFDOME_WT_DS5_CGGATGGCCACT  5.358101\n",
       " hpf4.3_ZFDOME_WT_DS5_CGGCAATGCTTG  5.322054\n",
       " hpf4.3_ZFDOME_WT_DS5_CGGCAGTGTTAC  5.351171\n",
       " hpf4.3_ZFDOME_WT_DS5_CGGCCAGCGGAN  5.402065\n",
       " \n",
       " [1000 rows x 1 columns],\n",
       "                                      boot_0    boot_1    boot_2    boot_3  \\\n",
       " hpf3.3_ZFHIGH_WT_DS5_AAAAGTTGCCTC  6.759911  6.647228  6.694393  6.849195   \n",
       " hpf3.3_ZFHIGH_WT_DS5_AAACAAGTGTAT   6.64466  6.624946  6.689043  6.722857   \n",
       " hpf3.3_ZFHIGH_WT_DS5_AAACACCTCGTC  6.689828  6.718553  6.771587  6.837948   \n",
       " hpf3.3_ZFHIGH_WT_DS5_AAATGAGGTTTN   6.78249  6.682479  6.687551  6.839673   \n",
       " hpf3.3_ZFHIGH_WT_DS5_AACCCTCTCGAT  6.705242  6.738627  6.700644  6.805124   \n",
       " ...                                     ...       ...       ...       ...   \n",
       " hpf4.3_ZFDOME_WT_DS5_CGGACCGCAGGT  6.702291  6.733482  6.642275  6.853466   \n",
       " hpf4.3_ZFDOME_WT_DS5_CGGATGGCCACT   6.77451   6.70771  6.707631  6.725549   \n",
       " hpf4.3_ZFDOME_WT_DS5_CGGCAATGCTTG  6.940786  6.586875  6.724755  6.693181   \n",
       " hpf4.3_ZFDOME_WT_DS5_CGGCAGTGTTAC  6.753914   6.69377  6.788657  6.836734   \n",
       " hpf4.3_ZFDOME_WT_DS5_CGGCCAGCGGAN  6.715839  6.721093  6.690696  6.734315   \n",
       " \n",
       "                                      boot_4    boot_5    boot_6    boot_7  \\\n",
       " hpf3.3_ZFHIGH_WT_DS5_AAAAGTTGCCTC  6.806379  6.684169  6.647911  6.745181   \n",
       " hpf3.3_ZFHIGH_WT_DS5_AAACAAGTGTAT  6.874048  6.857684  6.640579  6.835806   \n",
       " hpf3.3_ZFHIGH_WT_DS5_AAACACCTCGTC  6.781303  6.572003  6.632616   6.76269   \n",
       " hpf3.3_ZFHIGH_WT_DS5_AAATGAGGTTTN  6.712307  6.724935  6.642234   6.80512   \n",
       " hpf3.3_ZFHIGH_WT_DS5_AACCCTCTCGAT  6.809793   6.68517  6.684571  6.724404   \n",
       " ...                                     ...       ...       ...       ...   \n",
       " hpf4.3_ZFDOME_WT_DS5_CGGACCGCAGGT  6.739432  6.761997  6.659034  6.740662   \n",
       " hpf4.3_ZFDOME_WT_DS5_CGGATGGCCACT  6.792971  6.753959  6.727792  6.888245   \n",
       " hpf4.3_ZFDOME_WT_DS5_CGGCAATGCTTG  6.728347  6.707649  6.727023  6.785233   \n",
       " hpf4.3_ZFDOME_WT_DS5_CGGCAGTGTTAC  6.904999  6.758114  6.599089  6.737372   \n",
       " hpf4.3_ZFDOME_WT_DS5_CGGCCAGCGGAN  6.763937  6.733328  6.556272   6.80844   \n",
       " \n",
       "                                      boot_8    boot_9  \n",
       " hpf3.3_ZFHIGH_WT_DS5_AAAAGTTGCCTC  6.778171  6.647924  \n",
       " hpf3.3_ZFHIGH_WT_DS5_AAACAAGTGTAT  6.779376  6.633174  \n",
       " hpf3.3_ZFHIGH_WT_DS5_AAACACCTCGTC  6.703302  6.685941  \n",
       " hpf3.3_ZFHIGH_WT_DS5_AAATGAGGTTTN  6.713637  6.626618  \n",
       " hpf3.3_ZFHIGH_WT_DS5_AACCCTCTCGAT  6.736239  6.686084  \n",
       " ...                                     ...       ...  \n",
       " hpf4.3_ZFDOME_WT_DS5_CGGACCGCAGGT  6.550693  6.772745  \n",
       " hpf4.3_ZFDOME_WT_DS5_CGGATGGCCACT  6.587417   6.79228  \n",
       " hpf4.3_ZFDOME_WT_DS5_CGGCAATGCTTG  6.635318  6.615079  \n",
       " hpf4.3_ZFDOME_WT_DS5_CGGCAGTGTTAC  6.828364  6.599813  \n",
       " hpf4.3_ZFDOME_WT_DS5_CGGCCAGCGGAN  6.743372  6.586846  \n",
       " \n",
       " [1000 rows x 10 columns])"
      ]
     },
     "execution_count": 10,
     "metadata": {},
     "output_type": "execute_result"
    }
   ],
   "source": [
    "# calculate bootstrap\n",
    "orthomap2tei.get_tei(adata=zebrafish_data_subset,\n",
    "    gene_id=query_orthomap['geneID'],\n",
    "    gene_age=query_orthomap['PSnum'],\n",
    "    keep='min',\n",
    "    layer=None,\n",
    "    add_var=True,\n",
    "    var_name='Phylostrata',\n",
    "    add_obs=True,\n",
    "    obs_name='tei',\n",
    "    boot=True,\n",
    "    bt=10,\n",
    "    normalize_total=True,\n",
    "    log1p=True,\n",
    "    target_sum=1e6,\n",
    "    chunk_size=100000)"
   ]
  },
  {
   "cell_type": "markdown",
   "id": "bb0f4437",
   "metadata": {},
   "source": [
    "Please have a look at the documentation of [Downstream analysis](https://oggmap.readthedocs.io/en/latest/tutorials/index.html#oggmap-downstream-analysis) to get further insides."
   ]
  }
 ],
 "metadata": {
  "kernelspec": {
   "display_name": "Python [conda env:oggmap_env]",
   "language": "python",
   "name": "conda-env-oggmap_env-py"
  },
  "language_info": {
   "codemirror_mode": {
    "name": "ipython",
    "version": 3
   },
   "file_extension": ".py",
   "mimetype": "text/x-python",
   "name": "python",
   "nbconvert_exporter": "python",
   "pygments_lexer": "ipython3",
   "version": "3.10.16"
  }
 },
 "nbformat": 4,
 "nbformat_minor": 5
}
